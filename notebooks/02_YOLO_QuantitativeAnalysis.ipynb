{
 "cells": [
  {
   "cell_type": "markdown",
   "id": "81f9a521",
   "metadata": {},
   "source": [
    "#### Quantitative Analysis\n",
    "\n",
    "1. This notebook covers the quantivative analysis.\n",
    "\n",
    "2. Chosen metrics - mAP@0.5, mAP@0.5:0.95, Precision, Recall, IoU (More details in README)\n",
    "\n",
    "3. Short analysis given after results in the notebook and detialed analysis is present in the `docs/model_analysis.md` file."
   ]
  },
  {
   "cell_type": "code",
   "execution_count": 1,
   "id": "aecb391e",
   "metadata": {},
   "outputs": [],
   "source": [
    "import pandas as pd\n",
    "import json\n",
    "from pathlib import Path\n",
    "from pycocotools.coco import COCO\n",
    "from ultralytics import YOLO"
   ]
  },
  {
   "cell_type": "code",
   "execution_count": 2,
   "id": "d02b1ca2",
   "metadata": {},
   "outputs": [],
   "source": [
    "# Adjust paths after running the training script\n",
    "gt_path = Path(\"../data/coco_data/bdd100k_val_coco.json\")\n",
    "meta_path = Path(\"../data/parsed_data/val_data.parquet\")\n",
    "training_metrics_path = Path(\"../runs/train/yolo11s_NoFreeze/results.csv\")\n",
    "model_path = Path(\"../runs/train/yolo11s_NoFreeze/weights/best.pt\")\n",
    "config_path = Path(\"../data/yolo_data/dataset.yaml\")\n"
   ]
  },
  {
   "cell_type": "code",
   "execution_count": 3,
   "id": "047d774b",
   "metadata": {},
   "outputs": [],
   "source": [
    "detection_classes = [\n",
    "        \"person\",\n",
    "        \"rider\",\n",
    "        \"car\",\n",
    "        \"bus\",\n",
    "        \"truck\",\n",
    "        \"bike\",\n",
    "        \"motor\",\n",
    "        \"traffic light\",\n",
    "        \"traffic sign\",\n",
    "        \"train\",\n",
    "    ]"
   ]
  },
  {
   "cell_type": "code",
   "execution_count": 4,
   "id": "7f5418fd",
   "metadata": {},
   "outputs": [
    {
     "name": "stdout",
     "output_type": "stream",
     "text": [
      "Ultralytics 8.3.162 🚀 Python-3.12.3 torch-2.7.1+cu126 CUDA:0 (NVIDIA GeForce RTX 4060 Laptop GPU, 8188MiB)\n",
      "YOLO11s summary (fused): 100 layers, 9,416,670 parameters, 0 gradients, 21.3 GFLOPs\n",
      "\u001b[34m\u001b[1mval: \u001b[0mFast image access ✅ (ping: 1.2±0.6 ms, read: 77.1±34.5 MB/s, size: 57.3 KB)\n"
     ]
    },
    {
     "name": "stderr",
     "output_type": "stream",
     "text": [
      "\u001b[34m\u001b[1mval: \u001b[0mScanning /home/anish/data/projects/autonomous-vision-bdd100k/data/yolo_data/labels/val.cache... 10000 images, 0 backgrounds, 0 corrupt: 100%|██████████| 10000/10000 [00:00<?, ?it/s]\n",
      "                 Class     Images  Instances      Box(P          R      mAP50  mAP50-95): 100%|██████████| 625/625 [01:30<00:00,  6.91it/s]\n"
     ]
    },
    {
     "name": "stdout",
     "output_type": "stream",
     "text": [
      "                   all      10000     185526      0.674      0.436      0.478      0.269\n",
      "                person       3220      13262      0.678      0.513      0.574      0.281\n",
      "                 rider        515        649      0.566      0.361      0.386      0.183\n",
      "                   car       9879     102506      0.752       0.71      0.763      0.476\n",
      "                   bus       1242       1597      0.606       0.52      0.563      0.432\n",
      "                 truck       2689       4245      0.627      0.546      0.595      0.427\n",
      "                  bike        578       1007       0.54      0.362      0.381      0.187\n",
      "                 motor        334        452      0.597      0.279      0.342       0.17\n",
      "         traffic light       5653      26885      0.687      0.512      0.565      0.212\n",
      "          traffic sign       8221      34908       0.69      0.553      0.606      0.319\n",
      "                 train         14         15          1          0          0          0\n",
      "Speed: 0.1ms preprocess, 3.1ms inference, 0.0ms loss, 1.3ms postprocess per image\n",
      "Saving outputs/detect/val2/predictions.json...\n",
      "Results saved to \u001b[1moutputs/detect/val2\u001b[0m\n"
     ]
    }
   ],
   "source": [
    "model = YOLO(model_path)\n",
    "metrics = model.val(data=config_path, save_json=True, plots=False, save=False)"
   ]
  },
  {
   "cell_type": "markdown",
   "id": "a4a37ec3",
   "metadata": {},
   "source": [
    "From the above metrics, it is clear that modek handles common objects like cars, trucks, and buses quite well. This makes sense given that how often they appear in both the training and validation sets. On the other hand, the model struggles with less frequent classes like trains, motorcycles, riders, and bikes. Their lower performance is due to the less samples the model had to during training.\n",
    "\n",
    "Now, lets explore more with respect to meta data and check how model has performed."
   ]
  },
  {
   "cell_type": "code",
   "execution_count": 8,
   "id": "5db46cbc",
   "metadata": {},
   "outputs": [
    {
     "name": "stdout",
     "output_type": "stream",
     "text": [
      "loading annotations into memory...\n",
      "Done (t=0.48s)\n",
      "creating index...\n",
      "index created!\n"
     ]
    }
   ],
   "source": [
    "coco_gt = COCO(gt_path)\n",
    "val_df = pd.read_parquet(meta_path)\n",
    "img_dir = Path(\"../data/yolo_data/images/val\")  \n",
    "\n",
    "with open(\"outputs/detect/val2/predictions.json\", \"r\") as f:\n",
    "    preds = json.load(f)\n"
   ]
  },
  {
   "cell_type": "code",
   "execution_count": 9,
   "id": "168f1dea",
   "metadata": {},
   "outputs": [
    {
     "name": "stdout",
     "output_type": "stream",
     "text": [
      "Predictions sample:\n",
      "            image_id  category_id                                bbox    score\n",
      "0  fe1f55fa-19ba3600            5  [446.189, 335.78, 80.977, 107.261]  0.71283\n",
      "1  fe1f55fa-19ba3600            9  [607.539, 310.852, 23.309, 44.367]  0.66342\n",
      "2  fe1f55fa-19ba3600            9     [112.4, 332.247, 24.76, 17.305]  0.55370\n",
      "3  fe1f55fa-19ba3600            3  [456.777, 405.957, 45.066, 36.857]  0.46833\n",
      "4  fe1f55fa-19ba3600            3  [371.242, 408.339, 23.344, 22.487]  0.42904\n"
     ]
    }
   ],
   "source": [
    "preds_df = pd.DataFrame(preds)\n",
    "print(\"Predictions sample:\")\n",
    "print(preds_df.head())"
   ]
  },
  {
   "cell_type": "code",
   "execution_count": 35,
   "id": "a69d338e",
   "metadata": {},
   "outputs": [],
   "source": [
    "MODEL_PATH = \"../models/yolo11s_bdd.pt\"\n",
    "VAL_IMAGES_DIR = Path(\"../data/yolo_data/images/val\")\n",
    "VAL_LABELS_DIR = Path(\"../data/yolo_data/labels/val\")\n",
    "IMG_SIZE = (1280, 720)  # Original image size\n",
    "N_IMAGES = 200"
   ]
  },
  {
   "cell_type": "code",
   "execution_count": 49,
   "id": "a4328f06",
   "metadata": {},
   "outputs": [],
   "source": [
    "def compute_iou(box_a, box_b):\n",
    "    # Sort coordinates to ensure proper ordering\n",
    "    ax1, ax2 = sorted([float(box_a[0]), float(box_a[2])])\n",
    "    ay1, ay2 = sorted([float(box_a[1]), float(box_a[3])])\n",
    "    bx1, bx2 = sorted([float(box_b[0]), float(box_b[2])])\n",
    "    by1, by2 = sorted([float(box_b[1]), float(box_b[3])])\n",
    "\n",
    "    # Intersection rectangle\n",
    "    x_a = max(ax1, bx1)\n",
    "    y_a = max(ay1, by1)\n",
    "    x_b = min(ax2, bx2)\n",
    "    y_b = min(ay2, by2)\n",
    "\n",
    "    inter_area = max(0, x_b - x_a) * max(0, y_b - y_a)\n",
    "    box_a_area = max(0, ax2 - ax1) * max(0, ay2 - ay1)\n",
    "    box_b_area = max(0, bx2 - bx1) * max(0, by2 - by1)\n",
    "\n",
    "    union_area = box_a_area + box_b_area - inter_area\n",
    "    return inter_area / union_area if union_area > 0 else 0"
   ]
  },
  {
   "cell_type": "code",
   "execution_count": 50,
   "id": "9a997afe",
   "metadata": {},
   "outputs": [
    {
     "name": "stdout",
     "output_type": "stream",
     "text": [
      "Found 200 images to process\n"
     ]
    }
   ],
   "source": [
    "image_paths = sorted(Path(VAL_IMAGES_DIR).glob(\"*.jpg\"))[:N_IMAGES]\n",
    "print(f\"Found {len(image_paths)} images to process\")"
   ]
  },
  {
   "cell_type": "code",
   "execution_count": null,
   "id": "40a0c433",
   "metadata": {},
   "outputs": [],
   "source": [
    "from collections import defaultdict\n",
    "import cv2\n",
    "iou_scores = []\n",
    "classwise_iou = defaultdict(list)\n",
    "\n",
    "for img_path in image_paths:\n",
    "    img = cv2.imread(str(img_path))\n",
    "    img = cv2.resize(img, IMG_SIZE)\n",
    "\n",
    "\n",
    "    label_file = Path(VAL_LABELS_DIR) / (img_path.stem + \".txt\")\n",
    "    gt_boxes, gt_classes = [], []\n",
    "    if label_file.exists():\n",
    "        with open(label_file, \"r\") as f:\n",
    "            for line in f:\n",
    "                cls, x, y, bw, bh = map(float, line.strip().split())\n",
    "                x1 = int((x - bw / 2) * IMG_SIZE[0])\n",
    "                y1 = int((y - bh / 2) * IMG_SIZE[1])\n",
    "                x2 = int((x + bw / 2) * IMG_SIZE[0])\n",
    "                y2 = int((y + bh / 2) * IMG_SIZE[1])\n",
    "                gt_boxes.append([x1, y1, x2, y2])\n",
    "                gt_classes.append(int(cls))\n",
    "\n",
    "\n",
    "    results = model.predict(str(img_path), imgsz=IMG_SIZE[0],\n",
    "                            conf=0.25, iou=0.45, verbose=False)\n",
    "\n",
    "    for r in results:\n",
    "        pred_boxes = r.boxes.xyxy.cpu().numpy()\n",
    "        pred_classes = r.boxes.cls.cpu().numpy()\n",
    "        pred_scores = r.boxes.conf.cpu().numpy()\n",
    "\n",
    "        matched_gt = set()\n",
    "        for i, pred_box in enumerate(pred_boxes):\n",
    "            pred_cls = int(pred_classes[i])\n",
    "            best_iou = 0\n",
    "            best_gt = -1\n",
    "            for j, gt_box in enumerate(gt_boxes):\n",
    "                if j in matched_gt:\n",
    "                    continue\n",
    "                iou = compute_iou(pred_box, gt_box)\n",
    "                if iou > best_iou:\n",
    "                    best_iou = iou\n",
    "                    best_gt = j\n",
    "            if best_iou > 0.5:\n",
    "                matched_gt.add(best_gt)\n",
    "                iou_scores.append(best_iou)\n",
    "                class_name = class_names[pred_cls]\n",
    "                classwise_iou[class_name].append(best_iou)\n",
    "\n"
   ]
  },
  {
   "cell_type": "code",
   "execution_count": 54,
   "id": "14288e27",
   "metadata": {},
   "outputs": [
    {
     "name": "stderr",
     "output_type": "stream",
     "text": [
      "/tmp/ipykernel_534245/3177864944.py:5: MatplotlibDeprecationWarning: The get_cmap function was deprecated in Matplotlib 3.7 and will be removed in 3.11. Use ``matplotlib.colormaps[name]`` or ``matplotlib.colormaps.get_cmap()`` or ``pyplot.get_cmap()`` instead.\n",
      "  colors = plt.cm.get_cmap('tab10', len(classwise_iou))  # Distinct colors\n"
     ]
    },
    {
     "data": {
      "image/png": "[encoded data removed]",
      "text/plain": [
       "<Figure size 1200x600 with 1 Axes>"
      ]
     },
     "metadata": {},
     "output_type": "display_data"
    }
   ],
   "source": [
    "import matplotlib.pyplot as plt\n",
    "import numpy as np\n",
    "\n",
    "plt.figure(figsize=(12, 6))\n",
    "colors = plt.cm.get_cmap('tab10', len(classwise_iou))  # Distinct colors\n",
    "\n",
    "for idx, (cls, ious) in enumerate(classwise_iou.items()):\n",
    "    plt.hist(ious, bins=20, alpha=0.5, label=cls, color=colors(idx))\n",
    "\n",
    "plt.title(\"Per-Class IOU Distributions\")\n",
    "plt.xlabel(\"IOU\")\n",
    "plt.ylabel(\"Frequency\")\n",
    "plt.legend()\n",
    "plt.grid(True)\n",
    "plt.tight_layout()\n",
    "plt.show()\n"
   ]
  },
  {
   "cell_type": "markdown",
   "id": "9157b62c",
   "metadata": {},
   "source": [
    "Car detections dominate the histogram, this matches earlier mAP results, where cars had the highest AP. Traffic signs and traffic lights have good IOUs clustered around 0.7–0.85, but with a wider spread than cars. This aligns with the earlier small-object analysis. Persons, buses, trucks sit in the mid-range (0.6–0.85), showing more variability in localization. Likely due to occlusion (as found in EDA). \n",
    "\n",
    "The overall pattern matches the dataset bias."
   ]
  },
  {
   "cell_type": "markdown",
   "id": "62aff2ae",
   "metadata": {},
   "source": [
    "#### Model Evaluation – Next Steps (if more time was available)\n",
    "\n",
    "##### 1. Prepare Data\n",
    "- Load **BDD100K validation annotations** (COCO format).\n",
    "- Load **YOLO predictions** \n",
    "- Align IDs:\n",
    "  - Map YOLO `image_id` → COCO integer IDs.\n",
    "  - Convert `category_id` from 0-based → 1-based.\n",
    "\n",
    "##### 2. Evaluate Performance\n",
    "- Use **COCO API** to calculate:\n",
    "  - `mAP@[.5:.95]`\n",
    "  - `mAP@0.5`\n",
    "  - Class-wise precision & recall.\n",
    "\n",
    "##### 3. Analyze by Real-World Conditions\n",
    "- Scene type (city street, highway, residential, tunnel).\n",
    "- Weather (clear, overcast, rainy, snowy).\n",
    "- Time of day (daytime, night, dawn/dusk)."
   ]
  }
 ],
 "metadata": {
  "kernelspec": {
   "display_name": ".venv",
   "language": "python",
   "name": "python3"
  },
  "language_info": {
   "codemirror_mode": {
    "name": "ipython",
    "version": 3
   },
   "file_extension": ".py",
   "mimetype": "text/x-python",
   "name": "python",
   "nbconvert_exporter": "python",
   "pygments_lexer": "ipython3",
   "version": "3.12.3"
  }
 },
 "nbformat": 4,
 "nbformat_minor": 5
}
